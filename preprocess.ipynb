{
 "cells": [
  {
   "cell_type": "code",
   "execution_count": null,
   "metadata": {},
   "outputs": [],
   "source": [
    "import os\n",
    "import cv2\n",
    "import numpy as np\n",
    "from sklearn.model_selection import train_test_split\n",
    "from sklearn.preprocessing import LabelEncoder\n",
    "from keras.preprocessing.image import ImageDataGenerator as data_augment"
   ]
  },
  {
   "cell_type": "code",
   "execution_count": null,
   "metadata": {},
   "outputs": [],
   "source": [
    "face_cascade = cv2.CascadeClassifier(cv2.data.haarcascades + 'haarcascade_frontalface_default.xml')\n",
    "eye_cascade_left = cv2.CascadeClassifier(cv2.data.haarcascades + 'haarcascade_lefteye_2splits.xml')\n",
    "\n"
   ]
  },
  {
   "cell_type": "code",
   "execution_count": null,
   "metadata": {},
   "outputs": [],
   "source": [
    "import cv2\n",
    "import numpy as np\n",
    "\n",
    "def detect_face_and_eyes(frame, target_size=(224, 224)):\n",
    "    normalized_frame = cv2.normalize(frame, None, 0, 255, cv2.NORM_MINMAX)\n",
    "    frame_u8 = np.uint8(normalized_frame)\n",
    "    \n",
    "    gray = cv2.cvtColor(frame_u8, cv2.COLOR_BGR2GRAY)\n",
    "\n",
    "    faces = face_cascade.detectMultiScale(gray, scaleFactor=1.2, minNeighbors=3)\n",
    "\n",
    "    for (x, y, w, h) in faces:\n",
    "        roi_gray = gray[y:y+h, x:x+w]\n",
    "        eyes_left = eye_cascade_left.detectMultiScale(roi_gray)\n",
    "\n",
    "        if len(eyes_left) > 0:\n",
    "            left_eye = roi_gray[eyes_left[0][1]:eyes_left[0][1]+eyes_left[0][3], eyes_left[0][0]:eyes_left[0][0]+eyes_left[0][2]]\n",
    "            face = roi_gray\n",
    "\n",
    "            # Resize to target size\n",
    "            left_eye = cv2.resize(left_eye, target_size)\n",
    "            face = cv2.resize(face, target_size)\n",
    "\n",
    "            # Expand dimensions to fit target shape (224, 224, 1)\n",
    "            left_eye = np.expand_dims(left_eye, axis=2)\n",
    "            face = np.expand_dims(face, axis=2)\n",
    "\n",
    "            return face, left_eye\n",
    "\n",
    "    return None, None\n"
   ]
  },
  {
   "cell_type": "code",
   "execution_count": null,
   "metadata": {},
   "outputs": [],
   "source": [
    "# Function to process frames and labels with face detection\n",
    "def process_frames_with_eyes(frames):\n",
    "    left_eye_frames = []\n",
    "    face_frames = []\n",
    "    \n",
    "    for frame in frames:\n",
    "    \n",
    "        # Detect face and eyes\n",
    "        face_regions, left_eye_regions = detect_face_and_eyes(frame)\n",
    "\n",
    "        for face, left_eye in zip(face_regions, left_eye_regions):\n",
    "            # Resize left eye region\n",
    "            \n",
    "            if (left_eye is not None and face is not None):\n",
    "                # Normalize pixel values\n",
    "                left_eye = left_eye / 255.0\n",
    "                face = face / 255.0\n",
    "\n",
    "                left_eye_frames.append(left_eye)\n",
    "                face_frames.append(face)\n",
    "\n",
    "    return face_frames, left_eye_frames\n"
   ]
  },
  {
   "cell_type": "code",
   "execution_count": null,
   "metadata": {},
   "outputs": [],
   "source": []
  },
  {
   "cell_type": "code",
   "execution_count": null,
   "metadata": {},
   "outputs": [],
   "source": [
    "# Process frames with face detection\n",
    "left_eye_frames, right_eye_frames = process_frames_with_eyes(features)"
   ]
  },
  {
   "cell_type": "code",
   "execution_count": null,
   "metadata": {},
   "outputs": [],
   "source": [
    "# Assuming left_eye_frames and right_eye_frames are lists of left and right eye frames\n",
    "left_eye_frames = np.array(left_eye_filtered)\n",
    "labels_filtered = np.array(labels_filtered)\n",
    "\n",
    "# Convert labels to numeric format\n",
    "label_encoder = LabelEncoder()\n",
    "labels_encoded = label_encoder.fit_transform(labels_filtered)\n",
    "labels_encoded = np.array(labels_encoded)"
   ]
  },
  {
   "cell_type": "code",
   "execution_count": null,
   "metadata": {},
   "outputs": [],
   "source": [
    "np.savenpz('eye_data.npz', left_eye_frames = left_eye_frames, right_eye_frames  = right_eye_frames, labels = labels_encoded)"
   ]
  },
  {
   "cell_type": "code",
   "execution_count": null,
   "metadata": {},
   "outputs": [],
   "source": [
    "#data augmetation \n",
    "data_generate_training = data_augment (rescale=1./255, \n",
    "                              shear_range = 0.2,\n",
    "                              zoom_range = 0.2,\n",
    "                              fill_mode = \"nearest\",\n",
    "                              horizontal_flip = True,\n",
    "                              width_shift_range = 0.2,\n",
    "                              height_shift_range = 0.2,\n",
    "                              validation_split = 0.15)\n",
    "\n",
    "data_generate_test = data_augment(rescale = 1./255)\n"
   ]
  },
  {
   "cell_type": "code",
   "execution_count": null,
   "metadata": {},
   "outputs": [],
   "source": [
    "#data preprocessing and augmentation\n",
    "traind = data_generate_training.flow_from_directory(\"Training Data\",\n",
    "                                          target_size = (224, 224),\n",
    "                                          seed = 123,\n",
    "                                          batch_size = 32,\n",
    "                                          subset = \"training\")\n",
    "\n",
    "testd = data_generate_training.flow_from_directory(\"Training Data\"/input/driver-drowsiness-dataset-ddd/Driver Drowsiness Dataset4(DDD4\",\n",
    "                                          target_size = (227, 227),\n",
    "                                          seed = 123,\n",
    "                                          batch_size = 32,\n",
    "                                          subset = \"validation\")"
   ]
  }
 ],
 "metadata": {
  "kernelspec": {
   "display_name": "Python 3",
   "language": "python",
   "name": "python3"
  },
  "language_info": {
   "codemirror_mode": {
    "name": "ipython",
    "version": 3
   },
   "file_extension": ".py",
   "mimetype": "text/x-python",
   "name": "python",
   "nbconvert_exporter": "python",
   "pygments_lexer": "ipython3",
   "version": "3.11.6"
  }
 },
 "nbformat": 4,
 "nbformat_minor": 2
}
