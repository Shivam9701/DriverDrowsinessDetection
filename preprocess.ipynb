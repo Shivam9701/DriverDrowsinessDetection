{
 "cells": [
  {
   "cell_type": "code",
   "execution_count": 22,
   "metadata": {},
   "outputs": [],
   "source": [
    "import os\n",
    "import cv2\n",
    "import numpy as np\n",
    "from sklearn.model_selection import train_test_split\n",
    "from sklearn.preprocessing import LabelEncoder\n",
    "from keras.preprocessing.image import ImageDataGenerator as data_augment"
   ]
  },
  {
   "cell_type": "code",
   "execution_count": 23,
   "metadata": {},
   "outputs": [],
   "source": [
    "face_cascade = cv2.CascadeClassifier(cv2.data.haarcascades + 'haarcascade_frontalface_default.xml')\n",
    "eye_cascade_left = cv2.CascadeClassifier(cv2.data.haarcascades + 'haarcascade_lefteye_2splits.xml')\n",
    "\n"
   ]
  },
  {
   "cell_type": "code",
   "execution_count": 24,
   "metadata": {},
   "outputs": [],
   "source": [
    "import cv2\n",
    "import numpy as np\n",
    "\n",
    "def detect_face_and_eyes(frame, target_size=(224, 224)):\n",
    "    normalized_frame = cv2.normalize(frame, None, 0, 255, cv2.NORM_MINMAX)\n",
    "    frame_u8 = np.uint8(normalized_frame)\n",
    "    \n",
    "    gray = cv2.cvtColor(frame_u8, cv2.COLOR_BGR2GRAY)\n",
    "\n",
    "    faces = face_cascade.detectMultiScale(gray, scaleFactor=1.2, minNeighbors=3)\n",
    "\n",
    "    for (x, y, w, h) in faces:\n",
    "        roi_gray = gray[y:y+h, x:x+w]\n",
    "        eyes_left = eye_cascade_left.detectMultiScale(roi_gray)\n",
    "\n",
    "        if len(eyes_left) > 0:\n",
    "            left_eye = roi_gray[eyes_left[0][1]:eyes_left[0][1]+eyes_left[0][3], eyes_left[0][0]:eyes_left[0][0]+eyes_left[0][2]]\n",
    "            face = roi_gray\n",
    "\n",
    "            # Resize to target size\n",
    "            left_eye = cv2.resize(left_eye, target_size)\n",
    "            face = cv2.resize(face, target_size)\n",
    "\n",
    "            # Expand dimensions to fit target shape (224, 224, 1)\n",
    "            left_eye = np.expand_dims(left_eye, axis=2)\n",
    "            face = np.expand_dims(face, axis=2)\n",
    "\n",
    "            return face, left_eye\n",
    "\n",
    "    return None, None\n"
   ]
  },
  {
   "cell_type": "code",
   "execution_count": 25,
   "metadata": {},
   "outputs": [],
   "source": [
    "# Function to process frames and labels with face detection\n",
    "def process_frames_with_eyes(frames_and_labels):\n",
    "    # Separate features and labels\n",
    "\n",
    "    frames, labels = zip(*frames_and_labels)\n",
    "    left_eye_frames = []\n",
    "    face_frames = []\n",
    "    labels = []\n",
    "    \n",
    "    for i in range(len(frames)):\n",
    "    \n",
    "        # Detect face and eyes\n",
    "        frame = frames[i]\n",
    "        face_regions, left_eye_regions = detect_face_and_eyes(frame)\n",
    "\n",
    "        for face, left_eye in zip(face_regions, left_eye_regions):\n",
    "            # Resize left eye region\n",
    "            \n",
    "            if (left_eye is not None and face is not None):\n",
    "                # Normalize pixel values\n",
    "                left_eye = left_eye / 255.0\n",
    "                face = face / 255.0\n",
    "\n",
    "                left_eye_frames.append(left_eye)\n",
    "                face_frames.append(face)\n",
    "                labels.append(labels[i])\n",
    "\n",
    "    return face_frames, left_eye_frames, labels\n"
   ]
  },
  {
   "cell_type": "code",
   "execution_count": 26,
   "metadata": {},
   "outputs": [],
   "source": [
    "def process_images_from_folder(folder_path, label):\n",
    "\n",
    "    image_data = []\n",
    "    for filename in os.listdir(folder_path):\n",
    "\n",
    "        if filename.endswith(\".jpg\") or filename.endswith(\".png\"): \n",
    "            img_path = os.path.join(folder_path, filename)\n",
    "            img = cv2.imread(img_path)  # Read in BGR format\n",
    "            image_data.extend(zip(img, label))\n",
    "            \n",
    "    return image_data"
   ]
  },
  {
   "cell_type": "code",
   "execution_count": 27,
   "metadata": {},
   "outputs": [],
   "source": [
    "# Example usage\n",
    "dataset_folder = \"Training Data\"\n",
    "\n",
    "# Load and process drowsy videos\n",
    "drowsy_data = process_images_from_folder(os.path.join(dataset_folder, \"Drowsy\"), \"drowsy\")\n"
   ]
  },
  {
   "cell_type": "code",
   "execution_count": 28,
   "metadata": {},
   "outputs": [],
   "source": [
    "# Load and process alert videos\n",
    "alert_data = process_images_from_folder(os.path.join(dataset_folder, \"Non Drowsy\"), \"alert\")"
   ]
  },
  {
   "cell_type": "code",
   "execution_count": 29,
   "metadata": {},
   "outputs": [],
   "source": [
    "# Combine alert and drowsy data\n",
    "all_data = alert_data + drowsy_data\n",
    "np.random.shuffle(all_data)\n"
   ]
  },
  {
   "cell_type": "code",
   "execution_count": null,
   "metadata": {},
   "outputs": [],
   "source": [
    "\n"
   ]
  },
  {
   "cell_type": "code",
   "execution_count": 30,
   "metadata": {},
   "outputs": [
    {
     "ename": "error",
     "evalue": "OpenCV(4.9.0) d:\\a\\opencv-python\\opencv-python\\opencv\\modules\\imgproc\\src\\color.simd_helpers.hpp:92: error: (-2:Unspecified error) in function '__cdecl cv::impl::`anonymous-namespace'::CvtHelper<struct cv::impl::`anonymous namespace'::Set<3,4,-1>,struct cv::impl::A0x59191d0d::Set<1,-1,-1>,struct cv::impl::A0x59191d0d::Set<0,2,5>,4>::CvtHelper(const class cv::_InputArray &,const class cv::_OutputArray &,int)'\n> Invalid number of channels in input image:\n>     'VScn::contains(scn)'\n> where\n>     'scn' is 1\n",
     "output_type": "error",
     "traceback": [
      "\u001b[1;31m---------------------------------------------------------------------------\u001b[0m",
      "\u001b[1;31merror\u001b[0m                                     Traceback (most recent call last)",
      "\u001b[1;32mc:\\Users\\shiva\\OneDrive\\Desktop\\Driver-Drowsiness-BTP\\Code2\\preprocess.ipynb Cell 10\u001b[0m line \u001b[0;36m2\n\u001b[0;32m      <a href='vscode-notebook-cell:/c%3A/Users/shiva/OneDrive/Desktop/Driver-Drowsiness-BTP/Code2/preprocess.ipynb#Y125sZmlsZQ%3D%3D?line=0'>1</a>\u001b[0m \u001b[39m# Process frames with face detection\u001b[39;00m\n\u001b[1;32m----> <a href='vscode-notebook-cell:/c%3A/Users/shiva/OneDrive/Desktop/Driver-Drowsiness-BTP/Code2/preprocess.ipynb#Y125sZmlsZQ%3D%3D?line=1'>2</a>\u001b[0m face_frames, left_eye_frames, labels \u001b[39m=\u001b[39m process_frames_with_eyes(all_data)\n",
      "\u001b[1;32mc:\\Users\\shiva\\OneDrive\\Desktop\\Driver-Drowsiness-BTP\\Code2\\preprocess.ipynb Cell 10\u001b[0m line \u001b[0;36m1\n\u001b[0;32m     <a href='vscode-notebook-cell:/c%3A/Users/shiva/OneDrive/Desktop/Driver-Drowsiness-BTP/Code2/preprocess.ipynb#Y125sZmlsZQ%3D%3D?line=9'>10</a>\u001b[0m \u001b[39mfor\u001b[39;00m i \u001b[39min\u001b[39;00m \u001b[39mrange\u001b[39m(\u001b[39mlen\u001b[39m(frames)):\n\u001b[0;32m     <a href='vscode-notebook-cell:/c%3A/Users/shiva/OneDrive/Desktop/Driver-Drowsiness-BTP/Code2/preprocess.ipynb#Y125sZmlsZQ%3D%3D?line=10'>11</a>\u001b[0m \n\u001b[0;32m     <a href='vscode-notebook-cell:/c%3A/Users/shiva/OneDrive/Desktop/Driver-Drowsiness-BTP/Code2/preprocess.ipynb#Y125sZmlsZQ%3D%3D?line=11'>12</a>\u001b[0m     \u001b[39m# Detect face and eyes\u001b[39;00m\n\u001b[0;32m     <a href='vscode-notebook-cell:/c%3A/Users/shiva/OneDrive/Desktop/Driver-Drowsiness-BTP/Code2/preprocess.ipynb#Y125sZmlsZQ%3D%3D?line=12'>13</a>\u001b[0m     frame \u001b[39m=\u001b[39m frames[i]\n\u001b[1;32m---> <a href='vscode-notebook-cell:/c%3A/Users/shiva/OneDrive/Desktop/Driver-Drowsiness-BTP/Code2/preprocess.ipynb#Y125sZmlsZQ%3D%3D?line=13'>14</a>\u001b[0m     face_regions, left_eye_regions \u001b[39m=\u001b[39m detect_face_and_eyes(frame)\n\u001b[0;32m     <a href='vscode-notebook-cell:/c%3A/Users/shiva/OneDrive/Desktop/Driver-Drowsiness-BTP/Code2/preprocess.ipynb#Y125sZmlsZQ%3D%3D?line=15'>16</a>\u001b[0m     \u001b[39mfor\u001b[39;00m face, left_eye \u001b[39min\u001b[39;00m \u001b[39mzip\u001b[39m(face_regions, left_eye_regions):\n\u001b[0;32m     <a href='vscode-notebook-cell:/c%3A/Users/shiva/OneDrive/Desktop/Driver-Drowsiness-BTP/Code2/preprocess.ipynb#Y125sZmlsZQ%3D%3D?line=16'>17</a>\u001b[0m         \u001b[39m# Resize left eye region\u001b[39;00m\n\u001b[0;32m     <a href='vscode-notebook-cell:/c%3A/Users/shiva/OneDrive/Desktop/Driver-Drowsiness-BTP/Code2/preprocess.ipynb#Y125sZmlsZQ%3D%3D?line=18'>19</a>\u001b[0m         \u001b[39mif\u001b[39;00m (left_eye \u001b[39mis\u001b[39;00m \u001b[39mnot\u001b[39;00m \u001b[39mNone\u001b[39;00m \u001b[39mand\u001b[39;00m face \u001b[39mis\u001b[39;00m \u001b[39mnot\u001b[39;00m \u001b[39mNone\u001b[39;00m):\n\u001b[0;32m     <a href='vscode-notebook-cell:/c%3A/Users/shiva/OneDrive/Desktop/Driver-Drowsiness-BTP/Code2/preprocess.ipynb#Y125sZmlsZQ%3D%3D?line=19'>20</a>\u001b[0m             \u001b[39m# Normalize pixel values\u001b[39;00m\n",
      "\u001b[1;32mc:\\Users\\shiva\\OneDrive\\Desktop\\Driver-Drowsiness-BTP\\Code2\\preprocess.ipynb Cell 10\u001b[0m line \u001b[0;36m8\n\u001b[0;32m      <a href='vscode-notebook-cell:/c%3A/Users/shiva/OneDrive/Desktop/Driver-Drowsiness-BTP/Code2/preprocess.ipynb#Y125sZmlsZQ%3D%3D?line=4'>5</a>\u001b[0m normalized_frame \u001b[39m=\u001b[39m cv2\u001b[39m.\u001b[39mnormalize(frame, \u001b[39mNone\u001b[39;00m, \u001b[39m0\u001b[39m, \u001b[39m255\u001b[39m, cv2\u001b[39m.\u001b[39mNORM_MINMAX)\n\u001b[0;32m      <a href='vscode-notebook-cell:/c%3A/Users/shiva/OneDrive/Desktop/Driver-Drowsiness-BTP/Code2/preprocess.ipynb#Y125sZmlsZQ%3D%3D?line=5'>6</a>\u001b[0m frame_u8 \u001b[39m=\u001b[39m np\u001b[39m.\u001b[39muint8(normalized_frame)\n\u001b[1;32m----> <a href='vscode-notebook-cell:/c%3A/Users/shiva/OneDrive/Desktop/Driver-Drowsiness-BTP/Code2/preprocess.ipynb#Y125sZmlsZQ%3D%3D?line=7'>8</a>\u001b[0m gray \u001b[39m=\u001b[39m cv2\u001b[39m.\u001b[39;49mcvtColor(frame_u8, cv2\u001b[39m.\u001b[39;49mCOLOR_BGR2GRAY)\n\u001b[0;32m     <a href='vscode-notebook-cell:/c%3A/Users/shiva/OneDrive/Desktop/Driver-Drowsiness-BTP/Code2/preprocess.ipynb#Y125sZmlsZQ%3D%3D?line=9'>10</a>\u001b[0m faces \u001b[39m=\u001b[39m face_cascade\u001b[39m.\u001b[39mdetectMultiScale(gray, scaleFactor\u001b[39m=\u001b[39m\u001b[39m1.2\u001b[39m, minNeighbors\u001b[39m=\u001b[39m\u001b[39m3\u001b[39m)\n\u001b[0;32m     <a href='vscode-notebook-cell:/c%3A/Users/shiva/OneDrive/Desktop/Driver-Drowsiness-BTP/Code2/preprocess.ipynb#Y125sZmlsZQ%3D%3D?line=11'>12</a>\u001b[0m \u001b[39mfor\u001b[39;00m (x, y, w, h) \u001b[39min\u001b[39;00m faces:\n",
      "\u001b[1;31merror\u001b[0m: OpenCV(4.9.0) d:\\a\\opencv-python\\opencv-python\\opencv\\modules\\imgproc\\src\\color.simd_helpers.hpp:92: error: (-2:Unspecified error) in function '__cdecl cv::impl::`anonymous-namespace'::CvtHelper<struct cv::impl::`anonymous namespace'::Set<3,4,-1>,struct cv::impl::A0x59191d0d::Set<1,-1,-1>,struct cv::impl::A0x59191d0d::Set<0,2,5>,4>::CvtHelper(const class cv::_InputArray &,const class cv::_OutputArray &,int)'\n> Invalid number of channels in input image:\n>     'VScn::contains(scn)'\n> where\n>     'scn' is 1\n"
     ]
    }
   ],
   "source": [
    "# Process frames with face detection\n",
    "face_frames, left_eye_frames, labels = process_frames_with_eyes(all_data)"
   ]
  },
  {
   "cell_type": "code",
   "execution_count": null,
   "metadata": {},
   "outputs": [],
   "source": [
    "# Convert to numpy arrays\n",
    "face_frames = np.array(face_frames)\n",
    "left_eye_frames = np.array(left_eye_frames)\n",
    "\n",
    "# Convert labels to numeric format\n",
    "label_encoder = LabelEncoder()\n",
    "labels_encoded = label_encoder.fit_transform(labels)\n",
    "labels_encoded = np.array(labels_encoded)"
   ]
  },
  {
   "cell_type": "code",
   "execution_count": null,
   "metadata": {},
   "outputs": [],
   "source": [
    "np.savenpz('eye_data.npz', left_eye_frames = left_eye_frames, face_frames  = face_frames, labels = labels_encoded)"
   ]
  },
  {
   "cell_type": "code",
   "execution_count": null,
   "metadata": {},
   "outputs": [],
   "source": [
    "#data augmetation \n",
    "data_generate_training = data_augment (rescale=1./255, \n",
    "                              shear_range = 0.2,\n",
    "                              zoom_range = 0.2,\n",
    "                              fill_mode = \"nearest\",\n",
    "                              horizontal_flip = True,\n",
    "                              width_shift_range = 0.2,\n",
    "                              height_shift_range = 0.2,\n",
    "                              validation_split = 0.15)\n",
    "\n",
    "data_generate_test = data_augment(rescale = 1./255)\n"
   ]
  },
  {
   "cell_type": "code",
   "execution_count": null,
   "metadata": {},
   "outputs": [],
   "source": [
    "#data preprocessing and augmentation\n",
    "traind = data_generate_training.flow_from_directory(\"Training Data\",\n",
    "                                          target_size = (224, 224),\n",
    "                                          seed = 123,\n",
    "                                          batch_size = 32,\n",
    "                                          subset = \"training\")\n",
    "\n",
    "testd = data_generate_training.flow_from_directory(\"Training Data\"/input/driver-drowsiness-dataset-ddd/Driver Drowsiness Dataset4(DDD4\",\n",
    "                                          target_size = (227, 227),\n",
    "                                          seed = 123,\n",
    "                                          batch_size = 32,\n",
    "                                          subset = \"validation\")"
   ]
  }
 ],
 "metadata": {
  "kernelspec": {
   "display_name": "Python 3",
   "language": "python",
   "name": "python3"
  },
  "language_info": {
   "codemirror_mode": {
    "name": "ipython",
    "version": 3
   },
   "file_extension": ".py",
   "mimetype": "text/x-python",
   "name": "python",
   "nbconvert_exporter": "python",
   "pygments_lexer": "ipython3",
   "version": "3.11.6"
  }
 },
 "nbformat": 4,
 "nbformat_minor": 2
}
