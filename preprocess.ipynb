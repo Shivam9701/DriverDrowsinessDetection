{
 "cells": [
  {
   "cell_type": "code",
   "execution_count": null,
   "metadata": {},
   "outputs": [],
   "source": [
    "import os\n",
    "import cv2\n",
    "import numpy as np\n",
    "from sklearn.model_selection import train_test_split\n",
    "from sklearn.preprocessing import LabelEncoder\n",
    "from keras.preprocessing.image import ImageDataGenerator as data_augment"
   ]
  },
  {
   "cell_type": "code",
   "execution_count": null,
   "metadata": {},
   "outputs": [],
   "source": [
    "face_cascade = cv2.CascadeClassifier(cv2.data.haarcascades + 'haarcascade_frontalface_default.xml')\n",
    "eye_cascade_left = cv2.CascadeClassifier(cv2.data.haarcascades + 'haarcascade_lefteye_2splits.xml')\n",
    "\n"
   ]
  },
  {
   "cell_type": "code",
   "execution_count": null,
   "metadata": {},
   "outputs": [],
   "source": [
    "# Function to detect faces and eyes in a frame\n",
    "def detect_face_and_eyes(frame):\n",
    "        \n",
    "    normalized_frame = cv2.normalize(frame, None, 0, 255, cv2.NORM_MINMAX)\n",
    "    frame_u8 = np.uint8(normalized_frame)\n",
    "    \n",
    "    gray = cv2.cvtColor(frame_u8, cv2.COLOR_BGR2GRAY)\n",
    "\n",
    "    # cv2.imshow('Grayscale Image', gray)\n",
    "    # cv2.waitKey(0)\n",
    "    # cv2.destroyAllWindows()\n",
    "    \n",
    "    # print(gray.shape)\n",
    "\n",
    "    faces = face_cascade.detectMultiScale(gray, scaleFactor=1.2, minNeighbors=3)\n",
    "\n",
    "    #print(faces)\n",
    "\n",
    "    left_eye_regions = []\n",
    "    #right_eye_regions = []\n",
    "\n",
    "    for (x, y, w, h) in faces:\n",
    "        roi_gray = gray[y:y+h, x-10:x+w+10]\n",
    "        eyes_left = eye_cascade_left.detectMultiScale(roi_gray)\n",
    "        #eyes_right = eye_cascade_right.detectMultiScale(roi_gray)\n",
    "            \n",
    "         # Use the first detected eye for each side\n",
    "        if len(eyes_left) > 0:\n",
    "            left_eye = frame[y:y+h, x+eyes_left[0][0]:x+eyes_left[0][0]+eyes_left[0][2]]\n",
    "            left_eye_regions.append(left_eye\n",
    "        else:\n",
    "            left_eye_regions.append(None)\n",
    "\n",
    "\n",
    "    return left_eye_regions, #right_eye_regions"
   ]
  },
  {
   "cell_type": "code",
   "execution_count": null,
   "metadata": {},
   "outputs": [],
   "source": [
    "# Function to process frames and labels with face detection\n",
    "def process_frames_with_eyes(frames, target_size=(224, 224)):\n",
    "    left_eye_frames = []\n",
    "    \n",
    "    for frame in frames:\n",
    "    \n",
    "        # Detect face and eyes\n",
    "        left_eye_regions, right_eye_regions = detect_face_and_eyes(frame)\n",
    "\n",
    "        for left_eye, right_eye in zip(left_eye_regions, right_eye_regions):\n",
    "            # Resize left eye region\n",
    "\n",
    "            if (left_eye is None):\n",
    "                left_eye_frames.append(None)\n",
    "                continue\n",
    "                \n",
    "            if (right_eye is None):\n",
    "                \n",
    "                left_eye_frames.append(None)\n",
    "                continue\n",
    "\n",
    "            left_eye = cv2.resize(left_eye, target_size)\n",
    "\n",
    "            # Resize right eye region\n",
    "            right_eye = cv2.resize(right_eye, target_size)\n",
    "\n",
    "            # Normalize pixel values\n",
    "            left_eye = left_eye / 255.0\n",
    "            right_eye = right_eye / 255.0\n",
    "\n",
    "            left_eye_frames.append(left_eye)\n",
    "            \n",
    "        \n",
    "        \n",
    "\n",
    "    return left_eye_frames\n"
   ]
  },
  {
   "cell_type": "code",
   "execution_count": null,
   "metadata": {},
   "outputs": [],
   "source": [
    "# Process frames with face detection\n",
    "left_eye_frames, right_eye_frames = process_frames_with_eyes(features)"
   ]
  },
  {
   "cell_type": "code",
   "execution_count": null,
   "metadata": {},
   "outputs": [],
   "source": [
    "# Assume X_train_left, X_train_right, and labels are lists or arrays containing features and labels\n",
    "# detected using detect_face_and_eyes function\n",
    "\n",
    "left_eye_filtered = []\n",
    "labels_filtered = []\n",
    "\n",
    "for frame_index in range(len(left_eye_frames)):\n",
    "    left_eye_features = left_eye_frames[frame_index]\n",
    "    right_eye_features = right_eye_frames[frame_index]\n",
    "    label = labels[frame_index]\n",
    "\n",
    "    # Check if either left or right eye features are not None\n",
    "    if left_eye_features is not None and right_eye_features is not None:\n",
    "            left_eye_filtered.append(left_eye_features)\n",
    "            \n",
    "            labels_filtered.append(label)\n",
    "\n",
    "\n",
    "print(len(left_eye_filtered), len(labels_filtered))\n"
   ]
  },
  {
   "cell_type": "code",
   "execution_count": null,
   "metadata": {},
   "outputs": [],
   "source": [
    "# Assuming left_eye_frames and right_eye_frames are lists of left and right eye frames\n",
    "left_eye_frames = np.array(left_eye_filtered)\n",
    "labels_filtered = np.array(labels_filtered)\n",
    "\n",
    "# Convert labels to numeric format\n",
    "label_encoder = LabelEncoder()\n",
    "labels_encoded = label_encoder.fit_transform(labels_filtered)\n",
    "labels_encoded = np.array(labels_encoded)"
   ]
  },
  {
   "cell_type": "code",
   "execution_count": null,
   "metadata": {},
   "outputs": [],
   "source": [
    "np.savenpz('eye_data.npz', left_eye_frames = left_eye_frames, right_eye_frames  = right_eye_frames, labels = labels_encoded)"
   ]
  },
  {
   "cell_type": "code",
   "execution_count": 2,
   "metadata": {},
   "outputs": [],
   "source": [
    "#data augmetation \n",
    "data_generate_training = data_augment (rescale=1./255, \n",
    "                              shear_range = 0.2,\n",
    "                              zoom_range = 0.2,\n",
    "                              fill_mode = \"nearest\",\n",
    "                              horizontal_flip = True,\n",
    "                              width_shift_range = 0.2,\n",
    "                              height_shift_range = 0.2,\n",
    "                              validation_split = 0.15)\n",
    "\n",
    "data_generate_test = data_augment(rescale = 1./255)\n"
   ]
  },
  {
   "cell_type": "code",
   "execution_count": null,
   "metadata": {},
   "outputs": [],
   "source": [
    "#data preprocessing and augmentation\n",
    "traind = data_generate_training.flow_from_directory(\"Training Data\",\n",
    "                                          target_size = (224, 224),\n",
    "                                          seed = 123,\n",
    "                                          batch_size = 32,\n",
    "                                          subset = \"training\")\n",
    "\n",
    "testd = data_generate_training.flow_from_directory(\"Training Data\"/input/driver-drowsiness-dataset-ddd/Driver Drowsiness Dataset4(DDD4\",\n",
    "                                          target_size = (227, 227),\n",
    "                                          seed = 123,\n",
    "                                          batch_size = 32,\n",
    "                                          subset = \"validation\")"
   ]
  }
 ],
 "metadata": {
  "kernelspec": {
   "display_name": "Python 3",
   "language": "python",
   "name": "python3"
  },
  "language_info": {
   "codemirror_mode": {
    "name": "ipython",
    "version": 3
   },
   "file_extension": ".py",
   "mimetype": "text/x-python",
   "name": "python",
   "nbconvert_exporter": "python",
   "pygments_lexer": "ipython3",
   "version": "3.11.6"
  }
 },
 "nbformat": 4,
 "nbformat_minor": 2
}
