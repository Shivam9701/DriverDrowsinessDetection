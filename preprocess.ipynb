{
 "cells": [
  {
   "cell_type": "code",
   "execution_count": 1,
   "metadata": {},
   "outputs": [],
   "source": [
    "import os\n",
    "import cv2\n",
    "import numpy as np\n",
    "from sklearn.model_selection import train_test_split\n",
    "from sklearn.preprocessing import LabelEncoder"
   ]
  },
  {
   "cell_type": "code",
   "execution_count": 6,
   "metadata": {},
   "outputs": [],
   "source": [
    "# Function to load and preprocess a video\n",
    "def process_video(video_path, label, target_size=(224, 224)):\n",
    "    cap = cv2.VideoCapture(video_path)\n",
    "    frames = []\n",
    "\n",
    "    while True:\n",
    "        ret, frame = cap.read()\n",
    "        if not ret:\n",
    "            break\n",
    "\n",
    "        # Resize frame\n",
    "        frame = cv2.resize(frame, target_size)\n",
    "\n",
    "        # Normalize pixel values\n",
    "        frame = frame / 255.0\n",
    "\n",
    "        frames.append(frame)\n",
    "\n",
    "    cap.release()\n",
    "    return frames, [label] * len(frames)"
   ]
  },
  {
   "cell_type": "code",
   "execution_count": 3,
   "metadata": {},
   "outputs": [],
   "source": [
    "import imgaug.augmenters as iaa\n",
    "\n",
    "# Function to apply data augmentation to a list of frames\n",
    "def augment_data(frames):\n",
    "    seq = iaa.Sequential([\n",
    "        iaa.Fliplr(0.5),  # Horizontal flip with a 50% probability\n",
    "        iaa.GaussianBlur(sigma=(0, 1.0)),  # Gaussian blur with a variable sigma\n",
    "        iaa.Affine(rotate=(-10, 10)),  # Rotation in the range [-10, 10] degrees\n",
    "        # Add more augmentation techniques as needed\n",
    "    ])\n",
    "\n",
    "    augmented_frames = seq(images=frames)\n",
    "    return augmented_frames\n"
   ]
  },
  {
   "cell_type": "code",
   "execution_count": 5,
   "metadata": {},
   "outputs": [],
   "source": [
    "# Function to load and preprocess videos from a folder\n",
    "def process_videos_from_folder(folder_path, label, target_size=(224, 224)):\n",
    "    data = []\n",
    "\n",
    "    for filename in os.listdir(folder_path):\n",
    "        if filename.endswith(\".mp4\"):\n",
    "            video_path = os.path.join(folder_path, filename)\n",
    "            frames, labels = process_video(video_path, label, target_size)\n",
    "            #frames = augment_data(frames)\n",
    "            data.extend(zip(frames, labels))\n",
    "            break\n",
    "            \n",
    "\n",
    "    return data"
   ]
  },
  {
   "cell_type": "markdown",
   "metadata": {},
   "source": []
  },
  {
   "cell_type": "code",
   "execution_count": 7,
   "metadata": {},
   "outputs": [],
   "source": [
    "# Example usage\n",
    "dataset_folder = \"./dataset\"\n",
    "\n",
    "# Load and process drowsy videos\n",
    "drowsy_data = process_videos_from_folder(os.path.join(dataset_folder, \"drowsy\"), label='drowsy')\n"
   ]
  },
  {
   "cell_type": "code",
   "execution_count": 8,
   "metadata": {},
   "outputs": [],
   "source": [
    "# Load and process alert videos\n",
    "alert_data = process_videos_from_folder(os.path.join(dataset_folder, \"alert\"), label='alert')\n"
   ]
  },
  {
   "cell_type": "code",
   "execution_count": 73,
   "metadata": {},
   "outputs": [
    {
     "data": {
      "text/plain": [
       "(1516, 1520)"
      ]
     },
     "execution_count": 73,
     "metadata": {},
     "output_type": "execute_result"
    }
   ],
   "source": [
    "len(drowsy_data), len(alert_data)"
   ]
  },
  {
   "cell_type": "code",
   "execution_count": 10,
   "metadata": {},
   "outputs": [],
   "source": [
    "# Combine alert and drowsy data\n",
    "all_data = alert_data + drowsy_data\n",
    "np.random.shuffle(all_data)\n",
    "\n",
    "# Separate features and labels\n",
    "features, labels = zip(*all_data)\n"
   ]
  },
  {
   "cell_type": "code",
   "execution_count": 75,
   "metadata": {},
   "outputs": [],
   "source": [
    "# Convert labels to numeric format\n",
    "label_encoder = LabelEncoder()\n",
    "labels_encoded = label_encoder.fit_transform(labels)"
   ]
  },
  {
   "cell_type": "code",
   "execution_count": 64,
   "metadata": {},
   "outputs": [],
   "source": [
    "# Function to detect faces and eyes in a frame\n",
    "def detect_face_and_eyes(frame):\n",
    "        \n",
    "    #frame = frame.astype('uint8')\n",
    "    \n",
    "    normalized_frame = cv2.normalize(frame, None, 0, 255, cv2.NORM_MINMAX)\n",
    "    frame_u8 = np.uint8(normalized_frame)\n",
    "    \n",
    "    gray = cv2.cvtColor(frame_u8, cv2.COLOR_BGR2GRAY)\n",
    "\n",
    "    # cv2.imshow('Grayscale Image', gray)\n",
    "    # cv2.waitKey(0)\n",
    "    # cv2.destroyAllWindows()\n",
    "    \n",
    "    # print(gray.shape)\n",
    "\n",
    "    faces = face_cascade.detectMultiScale(gray, scaleFactor=1.2, minNeighbors=3)\n",
    "\n",
    "    #print(faces)\n",
    "\n",
    "    left_eye_regions = []\n",
    "    right_eye_regions = []\n",
    "\n",
    "    for (x, y, w, h) in faces:\n",
    "        roi_gray = gray[y:y+h, x-10:x+w+10]\n",
    "        eyes_left = eye_cascade_left.detectMultiScale(roi_gray)\n",
    "        eyes_right = eye_cascade_right.detectMultiScale(roi_gray)\n",
    "            \n",
    "         # Use the first detected eye for each side\n",
    "        if len(eyes_left) > 0:\n",
    "            left_eye = roi_gray[eyes_left[0][1]:eyes_left[0][1]+eyes_left[0][3], eyes_left[0][0]:eyes_left[0][0]+eyes_left[0][2]]\n",
    "            left_eye_regions.append(left_eye)\n",
    "        else:\n",
    "            left_eye_regions.append(None)\n",
    "\n",
    "        if len(eyes_right) > 0:\n",
    "            right_eye = roi_gray[eyes_right[0][1]:eyes_right[0][1]+eyes_right[0][3], eyes_right[0][0]:eyes_right[0][0]+eyes_right[0][2]]\n",
    "            right_eye_regions.append(right_eye)\n",
    "        else:\n",
    "            right_eye_regions.append(None)\n",
    "\n",
    "    return left_eye_regions, right_eye_regions"
   ]
  },
  {
   "cell_type": "code",
   "execution_count": 66,
   "metadata": {},
   "outputs": [],
   "source": [
    "# Function to process frames and labels with face detection\n",
    "def process_frames_with_eyes(frames, target_size=(224, 224)):\n",
    "    left_eye_frames = []\n",
    "    right_eye_frames = []\n",
    "\n",
    "    for frame in frames:\n",
    "    \n",
    "        # Detect face and eyes\n",
    "        left_eye_regions, right_eye_regions = detect_face_and_eyes(frame)\n",
    "\n",
    "        for left_eye, right_eye in zip(left_eye_regions, right_eye_regions):\n",
    "            # Resize left eye region\n",
    "\n",
    "            if (left_eye is None):\n",
    "                left_eye_frames.append(None)\n",
    "                right_eye_frames.append(None)\n",
    "                continue\n",
    "                \n",
    "\n",
    "            if (right_eye is None):\n",
    "                right_eye_frames.append(None)\n",
    "                left_eye_frames.append(None)\n",
    "                continue\n",
    "\n",
    "            left_eye = cv2.resize(left_eye, target_size)\n",
    "\n",
    "            # Resize right eye region\n",
    "            right_eye = cv2.resize(right_eye, target_size)\n",
    "\n",
    "            # Normalize pixel values\n",
    "            left_eye = left_eye / 255.0\n",
    "            right_eye = right_eye / 255.0\n",
    "\n",
    "            left_eye_frames.append(left_eye)\n",
    "            right_eye_frames.append(right_eye)\n",
    "        \n",
    "        \n",
    "\n",
    "    return left_eye_frames, right_eye_frames\n"
   ]
  },
  {
   "cell_type": "code",
   "execution_count": 67,
   "metadata": {},
   "outputs": [],
   "source": [
    "# Process frames with face detection\n",
    "left_eye_frames, right_eye_frames = process_frames_with_eyes(features)"
   ]
  },
  {
   "cell_type": "code",
   "execution_count": 68,
   "metadata": {},
   "outputs": [
    {
     "data": {
      "text/plain": [
       "(536, 536)"
      ]
     },
     "execution_count": 68,
     "metadata": {},
     "output_type": "execute_result"
    }
   ],
   "source": [
    "len(left_eye_frames), len(right_eye_frames)"
   ]
  },
  {
   "cell_type": "code",
   "execution_count": 69,
   "metadata": {},
   "outputs": [
    {
     "name": "stdout",
     "output_type": "stream",
     "text": [
      "175 175 175\n"
     ]
    }
   ],
   "source": [
    "# Assume X_train_left, X_train_right, and labels are lists or arrays containing features and labels\n",
    "# detected using detect_face_and_eyes function\n",
    "\n",
    "left_eye_filtered = []\n",
    "right_eye_filtered = []\n",
    "labels_filtered = []\n",
    "\n",
    "for frame_index in range(len(left_eye_frames)):\n",
    "    left_eye_features = left_eye_frames[frame_index]\n",
    "    right_eye_features = right_eye_frames[frame_index]\n",
    "    label = labels[frame_index]\n",
    "\n",
    "    # Check if either left or right eye features are not None\n",
    "    if left_eye_features is not None and right_eye_features is not None:\n",
    "            left_eye_filtered.append(left_eye_features)\n",
    "            right_eye_filtered.append(right_eye_features)\n",
    "            labels_filtered.append(label)\n",
    "\n",
    "\n",
    "print(len(left_eye_filtered), len(right_eye_filtered), len(labels_filtered))\n"
   ]
  },
  {
   "cell_type": "code",
   "execution_count": 72,
   "metadata": {},
   "outputs": [],
   "source": [
    "# Assuming left_eye_frames and right_eye_frames are lists of left and right eye frames\n",
    "left_eye_frames = np.array(left_eye_filtered)\n",
    "right_eye_frames = np.array(right_eye_filtered)\n",
    "labels_filtered = np.array(labels_filtered)\n",
    "\n",
    "# Convert labels to numeric format\n",
    "label_encoder = LabelEncoder()\n",
    "labels_encoded = label_encoder.fit_transform(labels_filtered)\n",
    "labels_encoded = np.array(labels_encoded)\n"
   ]
  },
  {
   "cell_type": "code",
   "execution_count": 73,
   "metadata": {},
   "outputs": [
    {
     "name": "stdout",
     "output_type": "stream",
     "text": [
      "(175, 224, 224) (175, 224, 224) (175,)\n"
     ]
    }
   ],
   "source": [
    "print(left_eye_frames.shape, right_eye_frames.shape, labels_encoded.shape)"
   ]
  },
  {
   "cell_type": "code",
   "execution_count": 71,
   "metadata": {},
   "outputs": [],
   "source": [
    "\n",
    "# Concatenate left and right eye frames along the last axis\n",
    "combined_eye_frames = np.concatenate((left_eye_frames, right_eye_frames), axis=-1)\n",
    "len(combined_eye_frames), len(labels_encoded)\n",
    "\n"
   ]
  },
  {
   "cell_type": "code",
   "execution_count": null,
   "metadata": {},
   "outputs": [],
   "source": [
    "from sklearn.model_selection import train_test_split\n",
    "\n",
    "# Split data into training and testing sets\n",
    "X_train_both_eyes, X_test_both_eyes, y_train, y_test = train_test_split(combined_eye_frames, labels_encoded, test_size=0.2, random_state=42)"
   ]
  },
  {
   "cell_type": "code",
   "execution_count": null,
   "metadata": {},
   "outputs": [],
   "source": [
    "# Split data into training and testing sets\n",
    "X_train, X_test, y_train, y_test = train_test_split(features, labels_encoded, test_size=0.2, random_state=42)"
   ]
  }
 ],
 "metadata": {
  "kernelspec": {
   "display_name": "Python 3",
   "language": "python",
   "name": "python3"
  },
  "language_info": {
   "codemirror_mode": {
    "name": "ipython",
    "version": 3
   },
   "file_extension": ".py",
   "mimetype": "text/x-python",
   "name": "python",
   "nbconvert_exporter": "python",
   "pygments_lexer": "ipython3",
   "version": "3.11.6"
  }
 },
 "nbformat": 4,
 "nbformat_minor": 2
}
