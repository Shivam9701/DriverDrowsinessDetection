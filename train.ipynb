{
 "cells": [
  {
   "cell_type": "code",
   "execution_count": 6,
   "metadata": {},
   "outputs": [],
   "source": [
    "import numpy as np"
   ]
  },
  {
   "cell_type": "code",
   "execution_count": 8,
   "metadata": {},
   "outputs": [
    {
     "data": {
      "text/plain": [
       "((1942, 224, 224, 3), (1942, 224, 224, 3), (1942,))"
      ]
     },
     "execution_count": 8,
     "metadata": {},
     "output_type": "execute_result"
    }
   ],
   "source": [
    "loaded_data = np.load('eye_data.npz')\n",
    "left_eye_data = loaded_data['left_eye_frames']\n",
    "right_eye_data = loaded_data['right_eye_frames']\n",
    "labels = loaded_data['labels']\n",
    "left_eye_data.shape, right_eye_data.shape, labels.shape"
   ]
  },
  {
   "cell_type": "code",
   "execution_count": 13,
   "metadata": {},
   "outputs": [],
   "source": [
    "from sklearn.model_selection import train_test_split\n",
    "\n",
    "test_size = 0.2\n",
    "# Perform separate train-test splits for left and right eyes\n",
    "X_train_left, X_test_left, y_train, y_test = train_test_split(left_eye_data, labels, test_size=test_size, random_state=42)\n",
    "X_train_right, X_test_right, _, _ = train_test_split(right_eye_data, labels, test_size=test_size, random_state=42)\n"
   ]
  },
  {
   "cell_type": "code",
   "execution_count": 15,
   "metadata": {},
   "outputs": [],
   "source": [
    "from keras.models import load_model\n",
    "\n",
    "# Load the saved model\n",
    "model = load_model('drowsiness_detection_model.h5')\n"
   ]
  },
  {
   "cell_type": "code",
   "execution_count": 16,
   "metadata": {},
   "outputs": [
    {
     "name": "stdout",
     "output_type": "stream",
     "text": [
      "Epoch 1/10\n",
      "49/49 [==============================] - 140s 3s/step - loss: 0.6940 - accuracy: 0.4726 - val_loss: 0.6931 - val_accuracy: 0.5193\n",
      "Epoch 2/10\n",
      "49/49 [==============================] - 72s 1s/step - loss: 0.6932 - accuracy: 0.4868 - val_loss: 0.6931 - val_accuracy: 0.5193\n",
      "Epoch 3/10\n",
      "49/49 [==============================] - 72s 1s/step - loss: 0.6932 - accuracy: 0.4997 - val_loss: 0.6931 - val_accuracy: 0.5193\n",
      "Epoch 4/10\n",
      "49/49 [==============================] - 72s 1s/step - loss: 0.6932 - accuracy: 0.4997 - val_loss: 0.6931 - val_accuracy: 0.5193\n",
      "Epoch 5/10\n",
      "49/49 [==============================] - 73s 1s/step - loss: 0.6932 - accuracy: 0.4823 - val_loss: 0.6932 - val_accuracy: 0.4807\n",
      "Epoch 6/10\n",
      "49/49 [==============================] - 60s 1s/step - loss: 0.6932 - accuracy: 0.4836 - val_loss: 0.6932 - val_accuracy: 0.4807\n",
      "Epoch 7/10\n",
      "49/49 [==============================] - 47s 960ms/step - loss: 0.6932 - accuracy: 0.4791 - val_loss: 0.6931 - val_accuracy: 0.5193\n",
      "Epoch 8/10\n",
      "49/49 [==============================] - 49s 990ms/step - loss: 0.6932 - accuracy: 0.5016 - val_loss: 0.6932 - val_accuracy: 0.4807\n",
      "Epoch 9/10\n",
      "49/49 [==============================] - 50s 1s/step - loss: 0.6932 - accuracy: 0.5003 - val_loss: 0.6932 - val_accuracy: 0.4807\n",
      "Epoch 10/10\n",
      "49/49 [==============================] - 50s 1s/step - loss: 0.6932 - accuracy: 0.4771 - val_loss: 0.6932 - val_accuracy: 0.4807\n",
      "Epoch 1/10\n",
      "49/49 [==============================] - 53s 1s/step - loss: 0.6932 - accuracy: 0.5003 - val_loss: 0.6932 - val_accuracy: 0.4807\n",
      "Epoch 2/10\n",
      "49/49 [==============================] - 52s 1s/step - loss: 0.6932 - accuracy: 0.5003 - val_loss: 0.6932 - val_accuracy: 0.4807\n",
      "Epoch 3/10\n",
      "49/49 [==============================] - 51s 1s/step - loss: 0.6932 - accuracy: 0.4887 - val_loss: 0.6932 - val_accuracy: 0.4807\n",
      "Epoch 4/10\n",
      "49/49 [==============================] - 50s 1s/step - loss: 0.6932 - accuracy: 0.5003 - val_loss: 0.6933 - val_accuracy: 0.4807\n",
      "Epoch 5/10\n",
      "49/49 [==============================] - 52s 1s/step - loss: 0.6932 - accuracy: 0.5003 - val_loss: 0.6932 - val_accuracy: 0.4807\n",
      "Epoch 6/10\n",
      "49/49 [==============================] - 51s 1s/step - loss: 0.6932 - accuracy: 0.5003 - val_loss: 0.6932 - val_accuracy: 0.4807\n",
      "Epoch 7/10\n",
      "49/49 [==============================] - 52s 1s/step - loss: 0.6932 - accuracy: 0.5003 - val_loss: 0.6932 - val_accuracy: 0.4807\n",
      "Epoch 8/10\n",
      "49/49 [==============================] - 51s 1s/step - loss: 0.6932 - accuracy: 0.5003 - val_loss: 0.6932 - val_accuracy: 0.4807\n",
      "Epoch 9/10\n",
      "49/49 [==============================] - 51s 1s/step - loss: 0.6932 - accuracy: 0.5003 - val_loss: 0.6932 - val_accuracy: 0.4807\n",
      "Epoch 10/10\n",
      "49/49 [==============================] - 52s 1s/step - loss: 0.6932 - accuracy: 0.5003 - val_loss: 0.6932 - val_accuracy: 0.4807\n"
     ]
    },
    {
     "data": {
      "text/plain": [
       "<keras.src.callbacks.History at 0x2034537e0d0>"
      ]
     },
     "execution_count": 16,
     "metadata": {},
     "output_type": "execute_result"
    }
   ],
   "source": [
    "# Train the model using the separate left and right eye data\n",
    "batch_size = 32\n",
    "epochs = 10  # You can adjust this based on your requirements\n",
    "\n",
    "# Train the model for left eye data\n",
    "model.fit(X_train_left, y_train, batch_size=batch_size, epochs=epochs, validation_data=(X_test_left, y_test))\n",
    "\n",
    "# Train the model for right eye data\n",
    "model.fit(X_train_right, y_train, batch_size=batch_size, epochs=epochs, validation_data=(X_test_right, y_test))"
   ]
  },
  {
   "cell_type": "code",
   "execution_count": 7,
   "metadata": {},
   "outputs": [],
   "source": [
    "loaded_data = np.load('combined_eye_data.npz')\n",
    "combined_eye_data = loaded_data['three_d_matrix']\n",
    "labels = loaded_data['labels']"
   ]
  },
  {
   "cell_type": "code",
   "execution_count": 9,
   "metadata": {},
   "outputs": [],
   "source": [
    "from keras.models import load_model\n",
    "\n",
    "# Load the saved model\n",
    "loaded_model = load_model('drowsiness_detection_model.h5')\n"
   ]
  }
 ],
 "metadata": {
  "kernelspec": {
   "display_name": "Python 3",
   "language": "python",
   "name": "python3"
  },
  "language_info": {
   "codemirror_mode": {
    "name": "ipython",
    "version": 3
   },
   "file_extension": ".py",
   "mimetype": "text/x-python",
   "name": "python",
   "nbconvert_exporter": "python",
   "pygments_lexer": "ipython3",
   "version": "3.11.6"
  }
 },
 "nbformat": 4,
 "nbformat_minor": 2
}
